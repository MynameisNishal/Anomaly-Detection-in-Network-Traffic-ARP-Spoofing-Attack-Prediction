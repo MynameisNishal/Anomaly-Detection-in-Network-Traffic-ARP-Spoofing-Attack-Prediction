{
  "cells": [
    {
      "cell_type": "code",
      "execution_count": null,
      "metadata": {
        "id": "LXMchpxQHROz"
      },
      "outputs": [],
      "source": [
        "import pandas as pd\n",
        "import numpy as np"
      ]
    },
    {
      "cell_type": "code",
      "execution_count": null,
      "metadata": {
        "id": "7UhsEdGKG9Rb"
      },
      "outputs": [],
      "source": [
        "df = pd.read_csv(\"/content/drive/MyDrive/arp_mitm/ARP_MitM_dataset.csv\",header=None)"
      ]
    },
    {
      "cell_type": "code",
      "execution_count": null,
      "metadata": {
        "id": "JJ08r_P5HP7O"
      },
      "outputs": [],
      "source": [
        "label_headers = [str(i) for i in range(1,116)]\n",
        "df.columns = label_headers"
      ]
    },
    {
      "cell_type": "code",
      "execution_count": null,
      "metadata": {
        "id": "ikpueGDbHVbh"
      },
      "outputs": [],
      "source": [
        "df_labels = pd.read_csv(\"/content/drive/MyDrive/arp_mitm/ARP_MitM_labels.csv\",dtype={\"\": int, \"x\": 'float64'})"
      ]
    },
    {
      "cell_type": "code",
      "execution_count": null,
      "metadata": {
        "id": "To_gTao-Ha9V"
      },
      "outputs": [],
      "source": [
        "df_labels = df_labels[\"x\"]"
      ]
    },
    {
      "cell_type": "code",
      "execution_count": null,
      "metadata": {
        "id": "aIRK1_glHuSE"
      },
      "outputs": [],
      "source": [
        "from sklearn.feature_selection import SelectKBest, f_classif\n",
        "from sklearn.model_selection import train_test_split\n",
        "\n",
        "# Separating features and the target variable\n",
        "X = df\n",
        "y = df_labels\n",
        "\n",
        "# Split the data into training and testing sets\n",
        "X_train, X_test, y_train, y_test = train_test_split(X, y, test_size=0.3, random_state=42)\n",
        "\n",
        "# Select top k features\n",
        "k = 10  # number of features to select\n",
        "selector = SelectKBest(f_classif, k=k)\n",
        "X_train_selected = selector.fit_transform(X_train, y_train)\n",
        "X_test_selected = selector.transform(X_test)\n",
        "\n",
        "# Get the indices of the selected features\n",
        "selected_features_indices = selector.get_support(indices=True)\n",
        "\n",
        "# Extract the names of the selected features\n",
        "selected_feature_names = X.columns[selected_features_indices]"
      ]
    },
    {
      "cell_type": "code",
      "execution_count": null,
      "metadata": {
        "id": "UTV9cDPzJC2W"
      },
      "outputs": [],
      "source": [
        "from sklearn.metrics import classification_report, accuracy_score"
      ]
    },
    {
      "cell_type": "code",
      "execution_count": null,
      "metadata": {
        "colab": {
          "background_save": true,
          "base_uri": "https://localhost:8080/"
        },
        "id": "NhnloFouWSBO",
        "outputId": "115b24ab-3800-4c8c-af9d-5fec0585cf5b"
      },
      "outputs": [
        {
          "name": "stdout",
          "output_type": "stream",
          "text": [
            "Fitting 5 folds for each of 600 candidates, totalling 3000 fits\n"
          ]
        }
      ],
      "source": [
        "from sklearn.linear_model import LogisticRegression\n",
        "from sklearn.model_selection import GridSearchCV\n",
        "from sklearn.metrics import classification_report, accuracy_score\n",
        "\n",
        "# Define the parameter grid to search\n",
        "param_grid = {\n",
        "    'penalty': ['l1', 'l2', 'elasticnet', 'none'],\n",
        "    'C': [0.001, 0.01, 0.1, 1, 10, 100],\n",
        "    'solver': ['newton-cg', 'lbfgs', 'liblinear', 'sag', 'saga'],\n",
        "    'max_iter': [100, 200, 300, 400, 500]\n",
        "}\n",
        "\n",
        "# Initialize the base model\n",
        "log_reg_base = LogisticRegression(n_jobs=11)\n",
        "\n",
        "# Create GridSearchCV object\n",
        "grid_search = GridSearchCV(log_reg_base, param_grid, cv=5, verbose=1, n_jobs=-1)\n",
        "\n",
        "# Fit the model with the grid search\n",
        "grid_search.fit(X_train_selected, y_train)\n",
        "\n",
        "# Best parameters\n",
        "best_params = grid_search.best_params_\n",
        "print(\"Best Parameters:\", best_params)\n",
        "\n",
        "# Predict with the best estimator\n",
        "y_pred = grid_search.predict(X_test_selected)\n",
        "\n",
        "# Calculate accuracy and report\n",
        "accuracy = accuracy_score(y_test, y_pred)\n",
        "report = classification_report(y_test, y_pred)\n",
        "\n",
        "print(\"Accuracy:\", accuracy)\n",
        "print(\"Classification Report:\\n\", report)\n"
      ]
    },
    {
      "cell_type": "code",
      "execution_count": null,
      "metadata": {
        "colab": {
          "base_uri": "https://localhost:8080/"
        },
        "id": "fOV80F7aH0Lf",
        "outputId": "92516a1f-fa72-4342-ab9a-802458b16ef1"
      },
      "outputs": [
        {
          "name": "stdout",
          "output_type": "stream",
          "text": [
            "0.9903032287519583\n",
            "              precision    recall  f1-score   support\n",
            "\n",
            "         0.0       0.99      0.99      0.99    407225\n",
            "         1.0       0.99      0.99      0.99    344056\n",
            "\n",
            "    accuracy                           0.99    751281\n",
            "   macro avg       0.99      0.99      0.99    751281\n",
            "weighted avg       0.99      0.99      0.99    751281\n",
            "\n"
          ]
        }
      ],
      "source": [
        "from sklearn.linear_model import LogisticRegression\n",
        "\n",
        "\n",
        "# Initialize the models\n",
        "log_reg_model = LogisticRegression(solver='lbfgs', n_jobs=11)\n",
        "\n",
        "log_reg_model.fit(X_train_selected, y_train)\n",
        "\n",
        "y_pred = log_reg_model.predict(X_test_selected)\n",
        "accuracy = accuracy_score(y_test, y_pred)\n",
        "report = classification_report(y_test, y_pred)\n",
        "\n",
        "print(accuracy)\n",
        "print(report)\n"
      ]
    },
    {
      "cell_type": "code",
      "execution_count": null,
      "metadata": {
        "colab": {
          "base_uri": "https://localhost:8080/"
        },
        "id": "uXtf6GlJLSsH",
        "outputId": "8de24a5e-31fb-4d13-bff0-f7e9acb9fbdb"
      },
      "outputs": [
        {
          "name": "stdout",
          "output_type": "stream",
          "text": [
            "0.999948088664561\n",
            "              precision    recall  f1-score   support\n",
            "\n",
            "         0.0       1.00      1.00      1.00    407225\n",
            "         1.0       1.00      1.00      1.00    344056\n",
            "\n",
            "    accuracy                           1.00    751281\n",
            "   macro avg       1.00      1.00      1.00    751281\n",
            "weighted avg       1.00      1.00      1.00    751281\n",
            "\n"
          ]
        }
      ],
      "source": [
        "from sklearn.ensemble import RandomForestClassifier\n",
        "\n",
        "# Initialize the models\n",
        "random_forest = RandomForestClassifier()\n",
        "\n",
        "random_forest.fit(X_train_selected, y_train)\n",
        "\n",
        "y_pred = random_forest.predict(X_test_selected)\n",
        "accuracy = accuracy_score(y_test, y_pred)\n",
        "report = classification_report(y_test, y_pred)\n",
        "\n",
        "print(accuracy)\n",
        "print(report)\n"
      ]
    },
    {
      "cell_type": "code",
      "execution_count": null,
      "metadata": {
        "colab": {
          "base_uri": "https://localhost:8080/"
        },
        "id": "Sl1Z7kaUMJXZ",
        "outputId": "152353b8-a344-4d75-cc31-043840cf4617"
      },
      "outputs": [
        {
          "name": "stdout",
          "output_type": "stream",
          "text": [
            "0.999874880370993\n",
            "              precision    recall  f1-score   support\n",
            "\n",
            "         0.0       1.00      1.00      1.00    407225\n",
            "         1.0       1.00      1.00      1.00    344056\n",
            "\n",
            "    accuracy                           1.00    751281\n",
            "   macro avg       1.00      1.00      1.00    751281\n",
            "weighted avg       1.00      1.00      1.00    751281\n",
            "\n"
          ]
        }
      ],
      "source": [
        "from sklearn.tree import DecisionTreeClassifier\n",
        "\n",
        "# Initialize the models\n",
        "decision_tree = DecisionTreeClassifier()\n",
        "\n",
        "decision_tree.fit(X_train_selected, y_train)\n",
        "\n",
        "y_pred = decision_tree.predict(X_test_selected)\n",
        "accuracy = accuracy_score(y_test, y_pred)\n",
        "report = classification_report(y_test, y_pred)\n",
        "\n",
        "print(accuracy)\n",
        "print(report)\n"
      ]
    },
    {
      "cell_type": "code",
      "execution_count": null,
      "metadata": {
        "id": "wPv5XSeRMpL5"
      },
      "outputs": [],
      "source": [
        "from sklearn.ensemble import radientBoostingClassifier\n",
        "\n",
        "# Initialize the models\n",
        "radient_boost = radientBoostingClassifier()\n",
        "\n",
        "radient_boost.fit(X_train_selected, y_train)\n",
        "\n",
        "y_pred = radient_boost.predict(X_test_selected)\n",
        "accuracy = accuracy_score(y_test, y_pred)\n",
        "report = classification_report(y_test, y_pred)\n",
        "\n",
        "print(accuracy)\n",
        "print(report)"
      ]
    },
    {
      "cell_type": "code",
      "execution_count": null,
      "metadata": {
        "colab": {
          "base_uri": "https://localhost:8080/"
        },
        "id": "RIeiuilzMvZU",
        "outputId": "4cc6d6cb-e413-4c24-a16c-3f02e9158692"
      },
      "outputs": [
        {
          "name": "stdout",
          "output_type": "stream",
          "text": [
            "0.9992160057288817\n",
            "              precision    recall  f1-score   support\n",
            "\n",
            "         0.0       1.00      1.00      1.00    407225\n",
            "         1.0       1.00      1.00      1.00    344056\n",
            "\n",
            "    accuracy                           1.00    751281\n",
            "   macro avg       1.00      1.00      1.00    751281\n",
            "weighted avg       1.00      1.00      1.00    751281\n",
            "\n"
          ]
        }
      ],
      "source": [
        "from sklearn.ensemble import AdaBoostClassifier\n",
        "\n",
        "# Initialize the models\n",
        "ada_boost = AdaBoostClassifier()\n",
        "\n",
        "ada_boost.fit(X_train_selected, y_train)\n",
        "\n",
        "y_pred = ada_boost.predict(X_test_selected)\n",
        "accuracy = accuracy_score(y_test, y_pred)\n",
        "report = classification_report(y_test, y_pred)\n",
        "\n",
        "print(accuracy)\n",
        "print(report)"
      ]
    }
  ],
  "metadata": {
    "colab": {
      "provenance": []
    },
    "kernelspec": {
      "display_name": "Python 3",
      "name": "python3"
    },
    "language_info": {
      "name": "python"
    }
  },
  "nbformat": 4,
  "nbformat_minor": 0
}