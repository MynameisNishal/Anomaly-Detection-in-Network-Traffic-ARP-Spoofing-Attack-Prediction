{
  "cells": [
    {
      "cell_type": "code",
      "execution_count": null,
      "metadata": {
        "id": "WEgzzPI8KcEF"
      },
      "outputs": [],
      "source": [
        "import pandas as pd\n",
        "import numpy as np\n",
        "import matplotlib.pyplot as plt\n",
        "from tensorflow.keras.models import Sequential\n",
        "from tensorflow.keras.layers import Flatten, Dense, Conv1D, MaxPool1D, Dropout,LeakyReLU,GRU,LSTM,Concatenate,BatchNormalization,Bidirectional,Input\n",
        "from sklearn.metrics import accuracy_score, precision_score, recall_score, f1_score\n",
        "from sklearn.metrics import accuracy_score\n",
        "from sklearn.metrics import roc_curve,roc_auc_score\n",
        "from sklearn.model_selection import StratifiedKFold\n",
        "from collections import Counter\n",
        "from sklearn import metrics\n",
        "import itertools\n",
        "from sklearn.discriminant_analysis import LinearDiscriminantAnalysis\n",
        "from sklearn.datasets import load_digits\n",
        "from sklearn.model_selection import cross_val_predict\n",
        "from sklearn.metrics import f1_score\n",
        "from sklearn.metrics import confusion_matrix, classification_report, precision_score\n",
        "from sklearn import metrics\n",
        "from sklearn.model_selection import train_test_split"
      ]
    },
    {
      "cell_type": "markdown",
      "metadata": {
        "id": "CwM7ngFFKA48"
      },
      "source": [
        "## Data Loading"
      ]
    },
    {
      "cell_type": "code",
      "execution_count": null,
      "metadata": {
        "id": "VRkhM-n4hvul"
      },
      "outputs": [],
      "source": [
        "dataPath = 'data/'"
      ]
    },
    {
      "cell_type": "code",
      "execution_count": null,
      "metadata": {
        "id": "SOShRhPB6FCr"
      },
      "outputs": [],
      "source": [
        "##Original Dataset is available as a CSV. This is a slightly processed version to improve access time and reduce training latency\n",
        "\n",
        "df = pd.read_parquet('data/arp_mitm_dataset.parquet')\n"
      ]
    },
    {
      "cell_type": "code",
      "execution_count": null,
      "metadata": {
        "id": "x-L5Nw_7-Rq4"
      },
      "outputs": [],
      "source": [
        "df_labels = pd.read_csv(\"data/ARP_MitM_labels.csv\",dtype={\"\": int, \"x\": 'float64'})\n",
        "df_labels = df_labels[\"x\"]"
      ]
    },
    {
      "cell_type": "code",
      "execution_count": null,
      "metadata": {
        "colab": {
          "base_uri": "https://localhost:8080/",
          "height": 256
        },
        "id": "ll8Ax55NSOFX",
        "outputId": "8ad5328a-e702-4d7a-8aa1-2fa550ff5995"
      },
      "outputs": [],
      "source": [
        "df.head()"
      ]
    },
    {
      "cell_type": "code",
      "execution_count": null,
      "metadata": {
        "colab": {
          "base_uri": "https://localhost:8080/"
        },
        "id": "w8oQaJO6TMHJ",
        "outputId": "1fc7cdb2-848a-4f19-b8b5-0c5a3a9e4cd5"
      },
      "outputs": [],
      "source": [
        "best_features=df.values\n",
        "from sklearn.preprocessing import StandardScaler\n",
        "sc_x=StandardScaler()\n",
        "df_pre=sc_x.fit_transform(best_features)\n",
        "\n",
        "print('=====Data Preprocessing=========')\n",
        "print(df_pre)"
      ]
    },
    {
      "cell_type": "code",
      "execution_count": null,
      "metadata": {
        "colab": {
          "base_uri": "https://localhost:8080/"
        },
        "id": "LK2TLuHiXTbH",
        "outputId": "d48ac197-fbb6-42cf-8062-33ec2700eae2"
      },
      "outputs": [],
      "source": [
        "from sklearn.model_selection import train_test_split\n",
        "y=df_labels\n",
        "y=np.ravel(y)\n",
        "print(df_pre.shape)\n",
        "print(y.shape)\n",
        "X_train, X_test, Y_train, Y_test = train_test_split(df_pre, y, test_size =0.2)"
      ]
    },
    {
      "cell_type": "code",
      "execution_count": null,
      "metadata": {},
      "outputs": [],
      "source": [
        "##LSTM Based Model"
      ]
    },
    {
      "cell_type": "code",
      "execution_count": null,
      "metadata": {
        "colab": {
          "base_uri": "https://localhost:8080/"
        },
        "id": "v_fC_UvDXqlN",
        "outputId": "5538b9f6-4c77-4826-a731-6f1c2b72e024"
      },
      "outputs": [],
      "source": [
        "AX_train=X_train\n",
        "AX_test=X_test\n",
        "AY_train=Y_train\n",
        "AY_test=Y_test\n",
        "X_train1 = np.array(X_train).reshape(X_train.shape[0], X_train.shape[1], 1)\n",
        "X_test1 = np.array(X_test).reshape(X_test.shape[0], X_test.shape[1], 1)\n",
        "\n",
        "model = Sequential()\n",
        "model.add(LSTM(50, input_shape=(X_train.shape[1],1), return_sequences=True))\n",
        "model.add(LSTM(50, return_sequences=True))\n",
        "model.add(LSTM(50, return_sequences=True))\n",
        "model.add(LSTM(50))\n",
        "model.add(Dense(units = 2, activation='softmax'))\n",
        "model.compile(optimizer='adam', loss = 'sparse_categorical_crossentropy', metrics=['accuracy'])\n",
        "model.summary()\n",
        "model_history = model.fit(X_train1, Y_train, epochs=2, batch_size = 256, validation_data = (X_test1, Y_test))\n",
        "model.save('models/LSTM.h5')"
      ]
    },
    {
      "cell_type": "code",
      "execution_count": null,
      "metadata": {},
      "outputs": [],
      "source": [
        "pd.DataFrame(model_history.history).plot(figsize=(8,5))\n",
        "plt.show()"
      ]
    },
    {
      "cell_type": "code",
      "execution_count": null,
      "metadata": {},
      "outputs": [],
      "source": [
        "##Simple GRU Model - Same hidden layers as the LSTM"
      ]
    },
    {
      "cell_type": "code",
      "execution_count": null,
      "metadata": {},
      "outputs": [],
      "source": [
        "AX_train=X_train\n",
        "AX_test=X_test\n",
        "AY_train=Y_train\n",
        "AY_test=Y_test\n",
        "X_train1 = np.array(X_train).reshape(X_train.shape[0], X_train.shape[1], 1)\n",
        "X_test1 = np.array(X_test).reshape(X_test.shape[0], X_test.shape[1], 1)\n",
        "model = Sequential()\n",
        "model.add(GRU(50, input_shape=(X_train.shape[1],1), return_sequences=True))\n",
        "model.add(GRU(50, return_sequences=True))\n",
        "model.add(GRU(50, return_sequences=True))\n",
        "model.add(GRU(50))\n",
        "model.add(Dense(units = 2, activation='softmax'))\n",
        "model.compile(optimizer='adam', loss = 'sparse_categorical_crossentropy', metrics=['accuracy'])\n",
        "model.summary()\n",
        "model_history = model.fit(X_train1, Y_train, epochs=2, batch_size = 256, validation_data = (X_test1, Y_test))\n",
        "model.save('models/GRU_base.h5')\n"
      ]
    },
    {
      "cell_type": "code",
      "execution_count": null,
      "metadata": {},
      "outputs": [],
      "source": [
        "pd.DataFrame(model_history.history).plot(figsize=(8,5))\n",
        "plt.show()"
      ]
    },
    {
      "cell_type": "code",
      "execution_count": null,
      "metadata": {},
      "outputs": [],
      "source": [
        "##GRU Model Testing - Trying various combinations of Hidden Layers and testing tuning methods like Dropout"
      ]
    },
    {
      "cell_type": "code",
      "execution_count": null,
      "metadata": {},
      "outputs": [],
      "source": [
        "AX_train=X_train\n",
        "AX_test=X_test\n",
        "AY_train=Y_train\n",
        "AY_test=Y_test\n",
        "X_train1 = np.array(X_train).reshape(X_train.shape[0], X_train.shape[1], 1)\n",
        "X_test1 = np.array(X_test).reshape(X_test.shape[0], X_test.shape[1], 1)\n",
        "model = Sequential()\n",
        "model.add(GRU(50, input_shape=(X_train.shape[1],1), return_sequences=True))\n",
        "model.add(GRU(25, return_sequences=True))\n",
        "model.add(GRU(25, return_sequences=True))\n",
        "model.add(GRU(5))\n",
        "model.add(Dense(units = 2, activation='softmax'))\n",
        "model.compile(optimizer='adam', loss = 'sparse_categorical_crossentropy', metrics=['accuracy'])\n",
        "model.summary()\n",
        "model_history = model.fit(X_train1, Y_train, epochs=5, batch_size = 256, validation_data = (X_test1, Y_test))\n",
        "model.save('models/GRU_2.h5')\n"
      ]
    },
    {
      "cell_type": "code",
      "execution_count": null,
      "metadata": {},
      "outputs": [],
      "source": [
        "pd.DataFrame(model_history.history).plot(figsize=(8,5))\n",
        "plt.show()"
      ]
    },
    {
      "cell_type": "code",
      "execution_count": null,
      "metadata": {},
      "outputs": [],
      "source": [
        "##Base GRU with Dropout"
      ]
    },
    {
      "cell_type": "code",
      "execution_count": null,
      "metadata": {},
      "outputs": [],
      "source": [
        "AX_train=X_train\n",
        "AX_test=X_test\n",
        "AY_train=Y_train\n",
        "AY_test=Y_test\n",
        "X_train1 = np.array(X_train).reshape(X_train.shape[0], X_train.shape[1], 1)\n",
        "X_test1 = np.array(X_test).reshape(X_test.shape[0], X_test.shape[1], 1)\n",
        "model = Sequential()\n",
        "model.add(GRU(50, input_shape=(X_train.shape[1],1), return_sequences=True))\n",
        "model.add(GRU(50, return_sequences=True))\n",
        "model.add(Dropout(0.1))\n",
        "model.add(GRU(50, return_sequences=True))\n",
        "model.add(Dropout(0.1))\n",
        "model.add(GRU(50))\n",
        "model.add(Dense(units = 2, activation='softmax'))\n",
        "model.compile(optimizer='adam', loss = 'sparse_categorical_crossentropy', metrics=['accuracy'])\n",
        "model.summary()\n",
        "model_history = model.fit(X_train1, Y_train, epochs=5, batch_size = 256, validation_data = (X_test1, Y_test))\n",
        "model.save('models/GRU_3.h5')\n"
      ]
    },
    {
      "cell_type": "code",
      "execution_count": null,
      "metadata": {},
      "outputs": [],
      "source": [
        "pd.DataFrame(model_history.history).plot(figsize=(8,5))\n",
        "plt.show()"
      ]
    },
    {
      "cell_type": "code",
      "execution_count": null,
      "metadata": {},
      "outputs": [],
      "source": [
        "##Reduced GRU with Dropout"
      ]
    },
    {
      "cell_type": "code",
      "execution_count": null,
      "metadata": {},
      "outputs": [],
      "source": [
        "from sklearn.discriminant_analysis import LinearDiscriminantAnalysis\n",
        "from sklearn.datasets import load_digits\n",
        "from sklearn.model_selection import cross_val_predict\n",
        "from sklearn.metrics import f1_score\n",
        "from sklearn.metrics import confusion_matrix, classification_report, precision_score\n",
        "from sklearn import metrics\n",
        "from sklearn.model_selection import train_test_split\n",
        "\n",
        "AX_train=X_train\n",
        "AX_test=X_test\n",
        "AY_train=Y_train\n",
        "AY_test=Y_test\n",
        "X_train1 = np.array(X_train).reshape(X_train.shape[0], X_train.shape[1], 1)\n",
        "X_test1 = np.array(X_test).reshape(X_test.shape[0], X_test.shape[1], 1)\n",
        "model = Sequential()\n",
        "model.add(GRU(50, input_shape=(X_train.shape[1],1), return_sequences=True))\n",
        "model.add(GRU(25, return_sequences=True))\n",
        "model.ad\n",
        "model.add(GRU(25, return_sequences=True))\n",
        "model.add(GRU(5))\n",
        "model.add(Dense(units = 2, activation='softmax'))\n",
        "model.compile(optimizer='adam', loss = 'sparse_categorical_crossentropy', metrics=['accuracy'])\n",
        "model.summary()\n",
        "model_history = model.fit(X_train1, Y_train, epochs=5, batch_size = 256, validation_data = (X_test1, Y_test))\n",
        "model.save('models/GRU_4.h5')\n"
      ]
    },
    {
      "cell_type": "code",
      "execution_count": null,
      "metadata": {},
      "outputs": [],
      "source": [
        "pd.DataFrame(model_history.history).plot(figsize=(8,5))\n",
        "plt.show()"
      ]
    }
  ],
  "metadata": {
    "colab": {
      "machine_shape": "hm",
      "provenance": []
    },
    "kernelspec": {
      "display_name": "Python 3",
      "name": "python3"
    },
    "language_info": {
      "codemirror_mode": {
        "name": "ipython",
        "version": 3
      },
      "file_extension": ".py",
      "mimetype": "text/x-python",
      "name": "python",
      "nbconvert_exporter": "python",
      "pygments_lexer": "ipython3",
      "version": "3.9.18"
    }
  },
  "nbformat": 4,
  "nbformat_minor": 0
}
